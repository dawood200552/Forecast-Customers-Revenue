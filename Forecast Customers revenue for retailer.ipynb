{
 "cells": [
  {
   "cell_type": "markdown",
   "metadata": {},
   "source": [
    "##### Fashion Retailer needs to set Marketing Budget for New Branch in particular Country, and needs to forecast the Customer Revenue in the next year\n",
    "##### Retailer seeks to identify high-value customers – customers, that are expected to bring high revenue to the retailer\n",
    "##### The key idea is that a predictive model can be employed to predict the next year's revenue of the customer based on the previous year's purchases. "
   ]
  },
  {
   "cell_type": "code",
   "execution_count": 91,
   "metadata": {},
   "outputs": [],
   "source": [
    "# Import the required libraries \n",
    "import pandas as pd \n",
    "import numpy as np\n",
    "import matplotlib.pyplot as plt \n",
    "import datetime as dt \n",
    "import warnings\n",
    "from sklearn.linear_model import LinearRegression, ridge_regression\n",
    "from sklearn.ensemble import RandomForestRegressor\n",
    "from sklearn.tree import DecisionTreeRegressor\n",
    "from sklearn.preprocessing import OneHotEncoder, StandardScaler , PolynomialFeatures\n",
    "from sklearn.compose import make_column_transformer\n",
    "from sklearn.metrics import silhouette_score , mean_squared_error , mean_absolute_error\n",
    "from sklearn.model_selection import cross_val_score , cross_validate"
   ]
  },
  {
   "cell_type": "markdown",
   "metadata": {},
   "source": [
    "### historical transaction data for the years 2019 and 2020"
   ]
  },
  {
   "cell_type": "code",
   "execution_count": 92,
   "metadata": {},
   "outputs": [
    {
     "data": {
      "text/html": [
       "<div>\n",
       "<style scoped>\n",
       "    .dataframe tbody tr th:only-of-type {\n",
       "        vertical-align: middle;\n",
       "    }\n",
       "\n",
       "    .dataframe tbody tr th {\n",
       "        vertical-align: top;\n",
       "    }\n",
       "\n",
       "    .dataframe thead th {\n",
       "        text-align: right;\n",
       "    }\n",
       "</style>\n",
       "<table border=\"1\" class=\"dataframe\">\n",
       "  <thead>\n",
       "    <tr style=\"text-align: right;\">\n",
       "      <th></th>\n",
       "      <th>InvoiceNo</th>\n",
       "      <th>StockCode</th>\n",
       "      <th>Description</th>\n",
       "      <th>Quantity</th>\n",
       "      <th>InvoiceDate</th>\n",
       "      <th>UnitPrice</th>\n",
       "      <th>CustomerID</th>\n",
       "      <th>Country</th>\n",
       "    </tr>\n",
       "  </thead>\n",
       "  <tbody>\n",
       "    <tr>\n",
       "      <th>0</th>\n",
       "      <td>546729</td>\n",
       "      <td>22775</td>\n",
       "      <td>PURPLE DRAWERKNOB ACRYLIC EDWARDIAN</td>\n",
       "      <td>12</td>\n",
       "      <td>2020-03-16 11:36:00</td>\n",
       "      <td>1.25</td>\n",
       "      <td>18231.0</td>\n",
       "      <td>United Kingdom</td>\n",
       "    </tr>\n",
       "    <tr>\n",
       "      <th>1</th>\n",
       "      <td>559898</td>\n",
       "      <td>21868</td>\n",
       "      <td>POTTING SHED TEA MUG</td>\n",
       "      <td>6</td>\n",
       "      <td>2020-07-13 12:18:00</td>\n",
       "      <td>1.25</td>\n",
       "      <td>16225.0</td>\n",
       "      <td>United Kingdom</td>\n",
       "    </tr>\n",
       "    <tr>\n",
       "      <th>2</th>\n",
       "      <td>548648</td>\n",
       "      <td>71459</td>\n",
       "      <td>HANGING JAM JAR T-LIGHT HOLDER</td>\n",
       "      <td>24</td>\n",
       "      <td>2020-04-01 13:20:00</td>\n",
       "      <td>0.85</td>\n",
       "      <td>12949.0</td>\n",
       "      <td>United Kingdom</td>\n",
       "    </tr>\n",
       "    <tr>\n",
       "      <th>3</th>\n",
       "      <td>540543</td>\n",
       "      <td>22173</td>\n",
       "      <td>METAL 4 HOOK HANGER FRENCH CHATEAU</td>\n",
       "      <td>4</td>\n",
       "      <td>2020-01-09 15:23:00</td>\n",
       "      <td>2.95</td>\n",
       "      <td>14395.0</td>\n",
       "      <td>United Kingdom</td>\n",
       "    </tr>\n",
       "  </tbody>\n",
       "</table>\n",
       "</div>"
      ],
      "text/plain": [
       "   InvoiceNo StockCode                          Description  Quantity  \\\n",
       "0     546729     22775  PURPLE DRAWERKNOB ACRYLIC EDWARDIAN        12   \n",
       "1     559898     21868                 POTTING SHED TEA MUG         6   \n",
       "2     548648     71459       HANGING JAM JAR T-LIGHT HOLDER        24   \n",
       "3     540543     22173   METAL 4 HOOK HANGER FRENCH CHATEAU         4   \n",
       "\n",
       "           InvoiceDate  UnitPrice  CustomerID         Country  \n",
       "0  2020-03-16 11:36:00       1.25     18231.0  United Kingdom  \n",
       "1  2020-07-13 12:18:00       1.25     16225.0  United Kingdom  \n",
       "2  2020-04-01 13:20:00       0.85     12949.0  United Kingdom  \n",
       "3  2020-01-09 15:23:00       2.95     14395.0  United Kingdom  "
      ]
     },
     "execution_count": 92,
     "metadata": {},
     "output_type": "execute_result"
    }
   ],
   "source": [
    "file = \"C:\\\\Users\\\\Mohannad.dawood\\\\Desktop\\\\Data_science_Projects\\\\retail_transactions.csv\"\n",
    "historical_data = pd.read_csv (file)\n",
    "historical_data.head(4)"
   ]
  },
  {
   "cell_type": "code",
   "execution_count": 93,
   "metadata": {},
   "outputs": [
    {
     "name": "stdout",
     "output_type": "stream",
     "text": [
      "<class 'pandas.core.frame.DataFrame'>\n",
      "RangeIndex: 397884 entries, 0 to 397883\n",
      "Data columns (total 8 columns):\n",
      " #   Column       Non-Null Count   Dtype  \n",
      "---  ------       --------------   -----  \n",
      " 0   InvoiceNo    397884 non-null  int64  \n",
      " 1   StockCode    397884 non-null  object \n",
      " 2   Description  397884 non-null  object \n",
      " 3   Quantity     397884 non-null  int64  \n",
      " 4   InvoiceDate  397884 non-null  object \n",
      " 5   UnitPrice    397884 non-null  float64\n",
      " 6   CustomerID   397884 non-null  float64\n",
      " 7   Country      397884 non-null  object \n",
      "dtypes: float64(2), int64(2), object(4)\n",
      "memory usage: 24.3+ MB\n"
     ]
    },
    {
     "data": {
      "text/html": [
       "<div>\n",
       "<style scoped>\n",
       "    .dataframe tbody tr th:only-of-type {\n",
       "        vertical-align: middle;\n",
       "    }\n",
       "\n",
       "    .dataframe tbody tr th {\n",
       "        vertical-align: top;\n",
       "    }\n",
       "\n",
       "    .dataframe thead th {\n",
       "        text-align: right;\n",
       "    }\n",
       "</style>\n",
       "<table border=\"1\" class=\"dataframe\">\n",
       "  <thead>\n",
       "    <tr style=\"text-align: right;\">\n",
       "      <th></th>\n",
       "      <th>InvoiceNo</th>\n",
       "      <th>Quantity</th>\n",
       "      <th>UnitPrice</th>\n",
       "      <th>CustomerID</th>\n",
       "    </tr>\n",
       "  </thead>\n",
       "  <tbody>\n",
       "    <tr>\n",
       "      <th>count</th>\n",
       "      <td>397884.000000</td>\n",
       "      <td>397884.000000</td>\n",
       "      <td>397884.000000</td>\n",
       "      <td>397884.000000</td>\n",
       "    </tr>\n",
       "    <tr>\n",
       "      <th>mean</th>\n",
       "      <td>560616.934451</td>\n",
       "      <td>12.988238</td>\n",
       "      <td>3.116488</td>\n",
       "      <td>15294.423453</td>\n",
       "    </tr>\n",
       "    <tr>\n",
       "      <th>std</th>\n",
       "      <td>13106.117773</td>\n",
       "      <td>179.331775</td>\n",
       "      <td>22.097877</td>\n",
       "      <td>1713.141560</td>\n",
       "    </tr>\n",
       "    <tr>\n",
       "      <th>min</th>\n",
       "      <td>536365.000000</td>\n",
       "      <td>1.000000</td>\n",
       "      <td>0.001000</td>\n",
       "      <td>12346.000000</td>\n",
       "    </tr>\n",
       "    <tr>\n",
       "      <th>25%</th>\n",
       "      <td>549234.000000</td>\n",
       "      <td>2.000000</td>\n",
       "      <td>1.250000</td>\n",
       "      <td>13969.000000</td>\n",
       "    </tr>\n",
       "    <tr>\n",
       "      <th>50%</th>\n",
       "      <td>561893.000000</td>\n",
       "      <td>6.000000</td>\n",
       "      <td>1.950000</td>\n",
       "      <td>15159.000000</td>\n",
       "    </tr>\n",
       "    <tr>\n",
       "      <th>75%</th>\n",
       "      <td>572090.000000</td>\n",
       "      <td>12.000000</td>\n",
       "      <td>3.750000</td>\n",
       "      <td>16795.000000</td>\n",
       "    </tr>\n",
       "    <tr>\n",
       "      <th>max</th>\n",
       "      <td>581587.000000</td>\n",
       "      <td>80995.000000</td>\n",
       "      <td>8142.750000</td>\n",
       "      <td>18287.000000</td>\n",
       "    </tr>\n",
       "  </tbody>\n",
       "</table>\n",
       "</div>"
      ],
      "text/plain": [
       "           InvoiceNo       Quantity      UnitPrice     CustomerID\n",
       "count  397884.000000  397884.000000  397884.000000  397884.000000\n",
       "mean   560616.934451      12.988238       3.116488   15294.423453\n",
       "std     13106.117773     179.331775      22.097877    1713.141560\n",
       "min    536365.000000       1.000000       0.001000   12346.000000\n",
       "25%    549234.000000       2.000000       1.250000   13969.000000\n",
       "50%    561893.000000       6.000000       1.950000   15159.000000\n",
       "75%    572090.000000      12.000000       3.750000   16795.000000\n",
       "max    581587.000000   80995.000000    8142.750000   18287.000000"
      ]
     },
     "execution_count": 93,
     "metadata": {},
     "output_type": "execute_result"
    }
   ],
   "source": [
    "# Let us discover our data \n",
    "\n",
    "historical_data.info()\n",
    "historical_data.describe()"
   ]
  },
  {
   "cell_type": "code",
   "execution_count": 94,
   "metadata": {},
   "outputs": [],
   "source": [
    "# from the above, we have 397884 records pf transactions and there is no missing data\n",
    "# we need to modify the feature ( InvoiceDate) to date ,since time is too much information not necessary.  "
   ]
  },
  {
   "cell_type": "code",
   "execution_count": 95,
   "metadata": {},
   "outputs": [
    {
     "data": {
      "text/html": [
       "<div>\n",
       "<style scoped>\n",
       "    .dataframe tbody tr th:only-of-type {\n",
       "        vertical-align: middle;\n",
       "    }\n",
       "\n",
       "    .dataframe tbody tr th {\n",
       "        vertical-align: top;\n",
       "    }\n",
       "\n",
       "    .dataframe thead th {\n",
       "        text-align: right;\n",
       "    }\n",
       "</style>\n",
       "<table border=\"1\" class=\"dataframe\">\n",
       "  <thead>\n",
       "    <tr style=\"text-align: right;\">\n",
       "      <th></th>\n",
       "      <th>InvoiceNo</th>\n",
       "      <th>StockCode</th>\n",
       "      <th>Description</th>\n",
       "      <th>Quantity</th>\n",
       "      <th>InvoiceDate</th>\n",
       "      <th>UnitPrice</th>\n",
       "      <th>CustomerID</th>\n",
       "      <th>Country</th>\n",
       "    </tr>\n",
       "  </thead>\n",
       "  <tbody>\n",
       "    <tr>\n",
       "      <th>0</th>\n",
       "      <td>546729</td>\n",
       "      <td>22775</td>\n",
       "      <td>PURPLE DRAWERKNOB ACRYLIC EDWARDIAN</td>\n",
       "      <td>12</td>\n",
       "      <td>2020-03-16</td>\n",
       "      <td>1.25</td>\n",
       "      <td>18231.0</td>\n",
       "      <td>United Kingdom</td>\n",
       "    </tr>\n",
       "    <tr>\n",
       "      <th>1</th>\n",
       "      <td>559898</td>\n",
       "      <td>21868</td>\n",
       "      <td>POTTING SHED TEA MUG</td>\n",
       "      <td>6</td>\n",
       "      <td>2020-07-13</td>\n",
       "      <td>1.25</td>\n",
       "      <td>16225.0</td>\n",
       "      <td>United Kingdom</td>\n",
       "    </tr>\n",
       "  </tbody>\n",
       "</table>\n",
       "</div>"
      ],
      "text/plain": [
       "   InvoiceNo StockCode                          Description  Quantity  \\\n",
       "0     546729     22775  PURPLE DRAWERKNOB ACRYLIC EDWARDIAN        12   \n",
       "1     559898     21868                 POTTING SHED TEA MUG         6   \n",
       "\n",
       "  InvoiceDate  UnitPrice  CustomerID         Country  \n",
       "0  2020-03-16       1.25     18231.0  United Kingdom  \n",
       "1  2020-07-13       1.25     16225.0  United Kingdom  "
      ]
     },
     "execution_count": 95,
     "metadata": {},
     "output_type": "execute_result"
    }
   ],
   "source": [
    "historical_data['InvoiceDate']=pd.to_datetime(historical_data['InvoiceDate']).dt.date\n",
    "historical_data.head(2)"
   ]
  },
  {
   "cell_type": "code",
   "execution_count": 96,
   "metadata": {},
   "outputs": [
    {
     "data": {
      "text/plain": [
       "18532"
      ]
     },
     "execution_count": 96,
     "metadata": {},
     "output_type": "execute_result"
    }
   ],
   "source": [
    "# Transactions counts 18532 Invoices \n",
    "len(historical_data['InvoiceNo'].value_counts())"
   ]
  },
  {
   "cell_type": "code",
   "execution_count": 97,
   "metadata": {},
   "outputs": [
    {
     "data": {
      "text/plain": [
       "3877"
      ]
     },
     "execution_count": 97,
     "metadata": {},
     "output_type": "execute_result"
    }
   ],
   "source": [
    "# Products Counts 3877 Products , So we may study Fast Moving Items and high vlauable Products \n",
    "len(historical_data['Description'].value_counts())"
   ]
  },
  {
   "cell_type": "code",
   "execution_count": 98,
   "metadata": {},
   "outputs": [
    {
     "data": {
      "text/plain": [
       "4338"
      ]
     },
     "execution_count": 98,
     "metadata": {},
     "output_type": "execute_result"
    }
   ],
   "source": [
    "# Customers Counts 4338 Customers , so we may proceed with Customer segmentations , and Customer Life time value forecaste\n",
    "len(historical_data['CustomerID'].value_counts())"
   ]
  },
  {
   "cell_type": "code",
   "execution_count": 99,
   "metadata": {},
   "outputs": [
    {
     "data": {
      "text/plain": [
       "37"
      ]
     },
     "execution_count": 99,
     "metadata": {},
     "output_type": "execute_result"
    }
   ],
   "source": [
    "# Country Counts (37) Geografical locations , So we may Study Stock forecast to serve sales Foercast \n",
    "len(historical_data['Country'].unique())"
   ]
  },
  {
   "cell_type": "markdown",
   "metadata": {},
   "source": [
    "- to forecast the revenue of next year, we need to form model of 2019 sales as independent features to forecast 2020 Revenue\n",
    "- So we need to perform feature Engineering to set up the predictors which would help us to apply on next year depends on last year revenues. "
   ]
  },
  {
   "cell_type": "markdown",
   "metadata": {},
   "source": [
    "# Feature Engineering :\n",
    "- we need to form the following features of 2019 to be applied on the model as independent features to find correlations with 2020 real revenues.\n",
    "    - revenue_2019 (total revenue for the year 2019)\n",
    "    - Days_since_first_purchase (the number of days since the first purchase by the customer)\n",
    "    - Days_since_last_purchase (the number of days since the customer's most recent purchase)\n",
    "    - Number_of_purchases (the total number of purchases by the customer in 2019)\n",
    "    - Avg_order_cost (the average value of the orders placed by the customer in 2019)\n",
    "    - revenue_2020 (the total revenue for the year 2020)\n"
   ]
  },
  {
   "cell_type": "code",
   "execution_count": 100,
   "metadata": {},
   "outputs": [
    {
     "data": {
      "text/html": [
       "<div>\n",
       "<style scoped>\n",
       "    .dataframe tbody tr th:only-of-type {\n",
       "        vertical-align: middle;\n",
       "    }\n",
       "\n",
       "    .dataframe tbody tr th {\n",
       "        vertical-align: top;\n",
       "    }\n",
       "\n",
       "    .dataframe thead th {\n",
       "        text-align: right;\n",
       "    }\n",
       "</style>\n",
       "<table border=\"1\" class=\"dataframe\">\n",
       "  <thead>\n",
       "    <tr style=\"text-align: right;\">\n",
       "      <th></th>\n",
       "      <th>Revenue</th>\n",
       "      <th>InvoiceDate</th>\n",
       "      <th>CustomerID</th>\n",
       "      <th>Country</th>\n",
       "    </tr>\n",
       "    <tr>\n",
       "      <th>InvoiceNo</th>\n",
       "      <th></th>\n",
       "      <th></th>\n",
       "      <th></th>\n",
       "      <th></th>\n",
       "    </tr>\n",
       "  </thead>\n",
       "  <tbody>\n",
       "    <tr>\n",
       "      <th>536365</th>\n",
       "      <td>139.12</td>\n",
       "      <td>2019-12-01</td>\n",
       "      <td>17850.0</td>\n",
       "      <td>United Kingdom</td>\n",
       "    </tr>\n",
       "    <tr>\n",
       "      <th>536366</th>\n",
       "      <td>22.20</td>\n",
       "      <td>2019-12-01</td>\n",
       "      <td>17850.0</td>\n",
       "      <td>United Kingdom</td>\n",
       "    </tr>\n",
       "  </tbody>\n",
       "</table>\n",
       "</div>"
      ],
      "text/plain": [
       "           Revenue InvoiceDate  CustomerID         Country\n",
       "InvoiceNo                                                 \n",
       "536365      139.12  2019-12-01     17850.0  United Kingdom\n",
       "536366       22.20  2019-12-01     17850.0  United Kingdom"
      ]
     },
     "execution_count": 100,
     "metadata": {},
     "output_type": "execute_result"
    }
   ],
   "source": [
    "# Revenue_2019 could be obtained by Quantities * Unit Price for the total 18532 transactions in 2019\n",
    "historical_data['Revenue'] = historical_data['Quantity'] * historical_data['UnitPrice']\n",
    "operations = {'Revenue':'sum','InvoiceDate':'first','CustomerID':'first', 'Country':'first'}\n",
    "historical_data = historical_data.groupby('InvoiceNo').agg(operations)\n",
    "historical_data.head(2)"
   ]
  },
  {
   "cell_type": "code",
   "execution_count": 101,
   "metadata": {},
   "outputs": [
    {
     "data": {
      "text/html": [
       "<div>\n",
       "<style scoped>\n",
       "    .dataframe tbody tr th:only-of-type {\n",
       "        vertical-align: middle;\n",
       "    }\n",
       "\n",
       "    .dataframe tbody tr th {\n",
       "        vertical-align: top;\n",
       "    }\n",
       "\n",
       "    .dataframe thead th {\n",
       "        text-align: right;\n",
       "    }\n",
       "</style>\n",
       "<table border=\"1\" class=\"dataframe\">\n",
       "  <thead>\n",
       "    <tr style=\"text-align: right;\">\n",
       "      <th></th>\n",
       "      <th>Revenue</th>\n",
       "      <th>InvoiceDate</th>\n",
       "      <th>CustomerID</th>\n",
       "      <th>Country</th>\n",
       "      <th>Year</th>\n",
       "      <th>Period</th>\n",
       "    </tr>\n",
       "    <tr>\n",
       "      <th>InvoiceNo</th>\n",
       "      <th></th>\n",
       "      <th></th>\n",
       "      <th></th>\n",
       "      <th></th>\n",
       "      <th></th>\n",
       "      <th></th>\n",
       "    </tr>\n",
       "  </thead>\n",
       "  <tbody>\n",
       "    <tr>\n",
       "      <th>536365</th>\n",
       "      <td>139.12</td>\n",
       "      <td>2019-12-01</td>\n",
       "      <td>17850.0</td>\n",
       "      <td>United Kingdom</td>\n",
       "      <td>2019</td>\n",
       "      <td>30</td>\n",
       "    </tr>\n",
       "    <tr>\n",
       "      <th>536366</th>\n",
       "      <td>22.20</td>\n",
       "      <td>2019-12-01</td>\n",
       "      <td>17850.0</td>\n",
       "      <td>United Kingdom</td>\n",
       "      <td>2019</td>\n",
       "      <td>30</td>\n",
       "    </tr>\n",
       "  </tbody>\n",
       "</table>\n",
       "</div>"
      ],
      "text/plain": [
       "           Revenue InvoiceDate  CustomerID         Country  Year  Period\n",
       "InvoiceNo                                                               \n",
       "536365      139.12  2019-12-01     17850.0  United Kingdom  2019      30\n",
       "536366       22.20  2019-12-01     17850.0  United Kingdom  2019      30"
      ]
     },
     "execution_count": 101,
     "metadata": {},
     "output_type": "execute_result"
    }
   ],
   "source": [
    "# date of ( first Purchase) and ( last Purchase) and Number of Purchase \n",
    "historical_data['InvoiceDate']=pd.to_datetime(historical_data['InvoiceDate'])\n",
    "historical_data['Year']=historical_data['InvoiceDate'].dt.year\n",
    "historical_data['Period']= abs((dt.datetime(year=2019, month=12, day=31) - historical_data['InvoiceDate']).dt.days)\n",
    "historical_data.head(2)"
   ]
  },
  {
   "cell_type": "markdown",
   "metadata": {},
   "source": [
    "### prepare the predictors dataframe (x) to be merged with prediction dataframe (y)"
   ]
  },
  {
   "cell_type": "code",
   "execution_count": 102,
   "metadata": {},
   "outputs": [
    {
     "data": {
      "text/html": [
       "<div>\n",
       "<style scoped>\n",
       "    .dataframe tbody tr th:only-of-type {\n",
       "        vertical-align: middle;\n",
       "    }\n",
       "\n",
       "    .dataframe tbody tr th {\n",
       "        vertical-align: top;\n",
       "    }\n",
       "\n",
       "    .dataframe thead th {\n",
       "        text-align: right;\n",
       "    }\n",
       "</style>\n",
       "<table border=\"1\" class=\"dataframe\">\n",
       "  <thead>\n",
       "    <tr style=\"text-align: right;\">\n",
       "      <th></th>\n",
       "      <th>Revenue 2019</th>\n",
       "      <th>first order period</th>\n",
       "      <th>last order period</th>\n",
       "      <th>Orders count</th>\n",
       "      <th>Average Order Value</th>\n",
       "    </tr>\n",
       "    <tr>\n",
       "      <th>CustomerID</th>\n",
       "      <th></th>\n",
       "      <th></th>\n",
       "      <th></th>\n",
       "      <th></th>\n",
       "      <th></th>\n",
       "    </tr>\n",
       "  </thead>\n",
       "  <tbody>\n",
       "    <tr>\n",
       "      <th>12347.0</th>\n",
       "      <td>711.79</td>\n",
       "      <td>24</td>\n",
       "      <td>24</td>\n",
       "      <td>1</td>\n",
       "      <td>711.79</td>\n",
       "    </tr>\n",
       "    <tr>\n",
       "      <th>12348.0</th>\n",
       "      <td>892.80</td>\n",
       "      <td>15</td>\n",
       "      <td>15</td>\n",
       "      <td>1</td>\n",
       "      <td>892.80</td>\n",
       "    </tr>\n",
       "    <tr>\n",
       "      <th>12370.0</th>\n",
       "      <td>1868.02</td>\n",
       "      <td>17</td>\n",
       "      <td>14</td>\n",
       "      <td>2</td>\n",
       "      <td>934.01</td>\n",
       "    </tr>\n",
       "    <tr>\n",
       "      <th>12377.0</th>\n",
       "      <td>1001.52</td>\n",
       "      <td>11</td>\n",
       "      <td>11</td>\n",
       "      <td>1</td>\n",
       "      <td>1001.52</td>\n",
       "    </tr>\n",
       "  </tbody>\n",
       "</table>\n",
       "</div>"
      ],
      "text/plain": [
       "            Revenue 2019  first order period  last order period  Orders count  \\\n",
       "CustomerID                                                                      \n",
       "12347.0           711.79                  24                 24             1   \n",
       "12348.0           892.80                  15                 15             1   \n",
       "12370.0          1868.02                  17                 14             2   \n",
       "12377.0          1001.52                  11                 11             1   \n",
       "\n",
       "            Average Order Value  \n",
       "CustomerID                       \n",
       "12347.0                  711.79  \n",
       "12348.0                  892.80  \n",
       "12370.0                  934.01  \n",
       "12377.0                 1001.52  "
      ]
     },
     "execution_count": 102,
     "metadata": {},
     "output_type": "execute_result"
    }
   ],
   "source": [
    "aggregation = {'Revenue':'sum','Period':['max','min','nunique']}\n",
    "x= historical_data[historical_data['Year'] == 2019 ].groupby('CustomerID').agg(aggregation)\n",
    "x.columns = [\" \".join(col) for col in x.columns.values]\n",
    "x.columns = ['Revenue 2019' , 'first order period', 'last order period', 'Orders count']\n",
    "x['Average Order Value'] = x['Revenue 2019'] / x['Orders count']\n",
    "x.head(4)"
   ]
  },
  {
   "cell_type": "code",
   "execution_count": 103,
   "metadata": {},
   "outputs": [
    {
     "data": {
      "text/html": [
       "<div>\n",
       "<style scoped>\n",
       "    .dataframe tbody tr th:only-of-type {\n",
       "        vertical-align: middle;\n",
       "    }\n",
       "\n",
       "    .dataframe tbody tr th {\n",
       "        vertical-align: top;\n",
       "    }\n",
       "\n",
       "    .dataframe thead th {\n",
       "        text-align: right;\n",
       "    }\n",
       "</style>\n",
       "<table border=\"1\" class=\"dataframe\">\n",
       "  <thead>\n",
       "    <tr style=\"text-align: right;\">\n",
       "      <th></th>\n",
       "      <th>Rvenue 2020</th>\n",
       "    </tr>\n",
       "    <tr>\n",
       "      <th>CustomerID</th>\n",
       "      <th></th>\n",
       "    </tr>\n",
       "  </thead>\n",
       "  <tbody>\n",
       "    <tr>\n",
       "      <th>12346.0</th>\n",
       "      <td>77183.60</td>\n",
       "    </tr>\n",
       "    <tr>\n",
       "      <th>12347.0</th>\n",
       "      <td>3598.21</td>\n",
       "    </tr>\n",
       "  </tbody>\n",
       "</table>\n",
       "</div>"
      ],
      "text/plain": [
       "            Rvenue 2020\n",
       "CustomerID             \n",
       "12346.0        77183.60\n",
       "12347.0         3598.21"
      ]
     },
     "execution_count": 103,
     "metadata": {},
     "output_type": "execute_result"
    }
   ],
   "source": [
    "aggregation_2020 = {'Revenue' : sum}\n",
    "y = historical_data[historical_data['Year'] == 2020].groupby('CustomerID').agg(aggregation_2020)\n",
    "y.columns = ['Rvenue 2020']\n",
    "y.head(2)"
   ]
  },
  {
   "cell_type": "markdown",
   "metadata": {},
   "source": [
    "#### Merge X ( pridector data frame ) with y (prediction data frame ) to train machine learning model ( Simple Linear Regression )"
   ]
  },
  {
   "cell_type": "code",
   "execution_count": 104,
   "metadata": {},
   "outputs": [
    {
     "data": {
      "text/html": [
       "<div>\n",
       "<style scoped>\n",
       "    .dataframe tbody tr th:only-of-type {\n",
       "        vertical-align: middle;\n",
       "    }\n",
       "\n",
       "    .dataframe tbody tr th {\n",
       "        vertical-align: top;\n",
       "    }\n",
       "\n",
       "    .dataframe thead th {\n",
       "        text-align: right;\n",
       "    }\n",
       "</style>\n",
       "<table border=\"1\" class=\"dataframe\">\n",
       "  <thead>\n",
       "    <tr style=\"text-align: right;\">\n",
       "      <th></th>\n",
       "      <th>Revenue 2019</th>\n",
       "      <th>first order period</th>\n",
       "      <th>last order period</th>\n",
       "      <th>Orders count</th>\n",
       "      <th>Average Order Value</th>\n",
       "      <th>Rvenue 2020</th>\n",
       "    </tr>\n",
       "    <tr>\n",
       "      <th>CustomerID</th>\n",
       "      <th></th>\n",
       "      <th></th>\n",
       "      <th></th>\n",
       "      <th></th>\n",
       "      <th></th>\n",
       "      <th></th>\n",
       "    </tr>\n",
       "  </thead>\n",
       "  <tbody>\n",
       "    <tr>\n",
       "      <th>12347.0</th>\n",
       "      <td>711.79</td>\n",
       "      <td>24</td>\n",
       "      <td>24</td>\n",
       "      <td>1</td>\n",
       "      <td>711.79</td>\n",
       "      <td>3598.21</td>\n",
       "    </tr>\n",
       "    <tr>\n",
       "      <th>12348.0</th>\n",
       "      <td>892.80</td>\n",
       "      <td>15</td>\n",
       "      <td>15</td>\n",
       "      <td>1</td>\n",
       "      <td>892.80</td>\n",
       "      <td>904.44</td>\n",
       "    </tr>\n",
       "    <tr>\n",
       "      <th>12370.0</th>\n",
       "      <td>1868.02</td>\n",
       "      <td>17</td>\n",
       "      <td>14</td>\n",
       "      <td>2</td>\n",
       "      <td>934.01</td>\n",
       "      <td>1677.67</td>\n",
       "    </tr>\n",
       "  </tbody>\n",
       "</table>\n",
       "</div>"
      ],
      "text/plain": [
       "            Revenue 2019  first order period  last order period  Orders count  \\\n",
       "CustomerID                                                                      \n",
       "12347.0           711.79                  24                 24             1   \n",
       "12348.0           892.80                  15                 15             1   \n",
       "12370.0          1868.02                  17                 14             2   \n",
       "\n",
       "            Average Order Value  Rvenue 2020  \n",
       "CustomerID                                    \n",
       "12347.0                  711.79      3598.21  \n",
       "12348.0                  892.80       904.44  \n",
       "12370.0                  934.01      1677.67  "
      ]
     },
     "execution_count": 104,
     "metadata": {},
     "output_type": "execute_result"
    }
   ],
   "source": [
    "ML_df = pd.merge(x,y, left_index=True , right_index=True,how='inner')\n",
    "ML_df.head(3)"
   ]
  },
  {
   "cell_type": "code",
   "execution_count": 105,
   "metadata": {},
   "outputs": [
    {
     "data": {
      "text/plain": [
       "(766, 6)"
      ]
     },
     "execution_count": 105,
     "metadata": {},
     "output_type": "execute_result"
    }
   ],
   "source": [
    "ML_df.shape"
   ]
  },
  {
   "cell_type": "markdown",
   "metadata": {},
   "source": [
    "### Remove the OUTLIERS from our our Data Frame"
   ]
  },
  {
   "cell_type": "code",
   "execution_count": 106,
   "metadata": {},
   "outputs": [
    {
     "data": {
      "image/png": "[encoded data removed]",
      "text/plain": [
       "<Figure size 1500x700 with 4 Axes>"
      ]
     },
     "metadata": {},
     "output_type": "display_data"
    }
   ],
   "source": [
    "plt.style.use('ggplot')\n",
    "fig,((ax1,ax2),(ax3,ax4)) = plt.subplots(2,2,figsize=(15,7))\n",
    "ax1.hist(ML_df['Revenue 2019'])\n",
    "ax1.set_title ('Revenue 2019')\n",
    "ax2.hist(ML_df['Average Order Value'])\n",
    "ax2.set_title ('Average Order Value')\n",
    "ax3.hist(ML_df['Orders count'])\n",
    "ax3.set_title ('Orders count')\n",
    "ax4.hist(ML_df['Rvenue 2020'])\n",
    "ax4.set_title ('Rvenue 2020')\n",
    "plt.show()"
   ]
  },
  {
   "cell_type": "code",
   "execution_count": 107,
   "metadata": {},
   "outputs": [
    {
     "data": {
      "text/plain": [
       "(757, 6)"
      ]
     },
     "execution_count": 107,
     "metadata": {},
     "output_type": "execute_result"
    }
   ],
   "source": [
    "ML_df = ML_df[ML_df['Revenue 2019'] < ( ML_df['Revenue 2019'].median() +  ML_df['Revenue 2019'].std()*3)]\n",
    "ML_df.shape"
   ]
  },
  {
   "cell_type": "code",
   "execution_count": 108,
   "metadata": {},
   "outputs": [
    {
     "data": {
      "image/png": "[encoded data removed]",
      "text/plain": [
       "<Figure size 1500x700 with 4 Axes>"
      ]
     },
     "metadata": {},
     "output_type": "display_data"
    }
   ],
   "source": [
    "plt.style.use('ggplot')\n",
    "fig,((ax1,ax2),(ax3,ax4)) = plt.subplots(2,2,figsize=(15,7))\n",
    "ax1.hist(ML_df['Revenue 2019'])\n",
    "ax1.set_title ('Revenue 2019')\n",
    "ax2.hist(ML_df['Average Order Value'])\n",
    "ax2.set_title ('Average Order Value')\n",
    "ax3.hist(ML_df['Orders count'])\n",
    "ax3.set_title ('Orders count')\n",
    "ax4.hist(ML_df['Rvenue 2020'])\n",
    "ax4.set_title ('Rvenue 2020')\n",
    "plt.show()"
   ]
  },
  {
   "cell_type": "markdown",
   "metadata": {},
   "source": [
    "### Define the Correlations between Predictors and predictions value "
   ]
  },
  {
   "cell_type": "code",
   "execution_count": 109,
   "metadata": {},
   "outputs": [
    {
     "data": {
      "text/html": [
       "<div>\n",
       "<style scoped>\n",
       "    .dataframe tbody tr th:only-of-type {\n",
       "        vertical-align: middle;\n",
       "    }\n",
       "\n",
       "    .dataframe tbody tr th {\n",
       "        vertical-align: top;\n",
       "    }\n",
       "\n",
       "    .dataframe thead th {\n",
       "        text-align: right;\n",
       "    }\n",
       "</style>\n",
       "<table border=\"1\" class=\"dataframe\">\n",
       "  <thead>\n",
       "    <tr style=\"text-align: right;\">\n",
       "      <th></th>\n",
       "      <th>Revenue 2019</th>\n",
       "      <th>first order period</th>\n",
       "      <th>last order period</th>\n",
       "      <th>Orders count</th>\n",
       "      <th>Average Order Value</th>\n",
       "      <th>Rvenue 2020</th>\n",
       "    </tr>\n",
       "  </thead>\n",
       "  <tbody>\n",
       "    <tr>\n",
       "      <th>Revenue 2019</th>\n",
       "      <td>1.000000</td>\n",
       "      <td>0.109268</td>\n",
       "      <td>-0.254705</td>\n",
       "      <td>0.483499</td>\n",
       "      <td>0.810552</td>\n",
       "      <td>0.410965</td>\n",
       "    </tr>\n",
       "    <tr>\n",
       "      <th>first order period</th>\n",
       "      <td>0.109268</td>\n",
       "      <td>1.000000</td>\n",
       "      <td>0.624892</td>\n",
       "      <td>0.295477</td>\n",
       "      <td>-0.045065</td>\n",
       "      <td>0.071319</td>\n",
       "    </tr>\n",
       "    <tr>\n",
       "      <th>last order period</th>\n",
       "      <td>-0.254705</td>\n",
       "      <td>0.624892</td>\n",
       "      <td>1.000000</td>\n",
       "      <td>-0.383827</td>\n",
       "      <td>-0.068305</td>\n",
       "      <td>-0.066846</td>\n",
       "    </tr>\n",
       "    <tr>\n",
       "      <th>Orders count</th>\n",
       "      <td>0.483499</td>\n",
       "      <td>0.295477</td>\n",
       "      <td>-0.383827</td>\n",
       "      <td>1.000000</td>\n",
       "      <td>0.017392</td>\n",
       "      <td>0.233498</td>\n",
       "    </tr>\n",
       "    <tr>\n",
       "      <th>Average Order Value</th>\n",
       "      <td>0.810552</td>\n",
       "      <td>-0.045065</td>\n",
       "      <td>-0.068305</td>\n",
       "      <td>0.017392</td>\n",
       "      <td>1.000000</td>\n",
       "      <td>0.333242</td>\n",
       "    </tr>\n",
       "    <tr>\n",
       "      <th>Rvenue 2020</th>\n",
       "      <td>0.410965</td>\n",
       "      <td>0.071319</td>\n",
       "      <td>-0.066846</td>\n",
       "      <td>0.233498</td>\n",
       "      <td>0.333242</td>\n",
       "      <td>1.000000</td>\n",
       "    </tr>\n",
       "  </tbody>\n",
       "</table>\n",
       "</div>"
      ],
      "text/plain": [
       "                     Revenue 2019  first order period  last order period  \\\n",
       "Revenue 2019             1.000000            0.109268          -0.254705   \n",
       "first order period       0.109268            1.000000           0.624892   \n",
       "last order period       -0.254705            0.624892           1.000000   \n",
       "Orders count             0.483499            0.295477          -0.383827   \n",
       "Average Order Value      0.810552           -0.045065          -0.068305   \n",
       "Rvenue 2020              0.410965            0.071319          -0.066846   \n",
       "\n",
       "                     Orders count  Average Order Value  Rvenue 2020  \n",
       "Revenue 2019             0.483499             0.810552     0.410965  \n",
       "first order period       0.295477            -0.045065     0.071319  \n",
       "last order period       -0.383827            -0.068305    -0.066846  \n",
       "Orders count             1.000000             0.017392     0.233498  \n",
       "Average Order Value      0.017392             1.000000     0.333242  \n",
       "Rvenue 2020              0.233498             0.333242     1.000000  "
      ]
     },
     "execution_count": 109,
     "metadata": {},
     "output_type": "execute_result"
    }
   ],
   "source": [
    "ML_df.corr()"
   ]
  },
  {
   "cell_type": "markdown",
   "metadata": {},
   "source": [
    "##### the higher the 2019 revenue from a customer, greater the expected revenue from them in 2020 should be. \n",
    "##### Negative numbers mean the reverse – for example, the more days there have been since a customer's last purchase, the lower you would expect the 2020 revenue from them to be. \n",
    "##### The correlation values agree that revenue_2019 has the strongest relationship with revenue_2020."
   ]
  },
  {
   "cell_type": "markdown",
   "metadata": {},
   "source": [
    "## will train a linear regression model with revenue_2020 as the dependent variable and the rest of the variables as the independent variables"
   ]
  },
  {
   "cell_type": "code",
   "execution_count": 135,
   "metadata": {},
   "outputs": [
    {
     "data": {
      "text/plain": [
       "3324.1151894447366"
      ]
     },
     "execution_count": 135,
     "metadata": {},
     "output_type": "execute_result"
    }
   ],
   "source": [
    "X=ML_df[['Revenue 2019','last order period','Orders count', 'Average Order Value']]\n",
    "X_scaled = StandardScaler().fit_transform(X)\n",
    "Y = ML_df[['Rvenue 2020']]\n",
    "Y_sclae = StandardScaler().fit_transform(Y).reshape(-1,1)\n",
    "lr= LinearRegression()\n",
    "cross_score = cross_val_score(lr,X_scaled,Y,cv=10,scoring='neg_mean_absolute_error')\n",
    "-1*cross_score.mean()\n"
   ]
  },
  {
   "cell_type": "code",
   "execution_count": 136,
   "metadata": {},
   "outputs": [
    {
     "data": {
      "text/plain": [
       "3537.7554702736843"
      ]
     },
     "execution_count": 136,
     "metadata": {},
     "output_type": "execute_result"
    }
   ],
   "source": [
    "warnings.filterwarnings(\"ignore\")\n",
    "random= RandomForestRegressor()\n",
    "random_score = cross_val_score(random,X_scaled,Y,cv=10,scoring='neg_mean_absolute_error')\n",
    "-1*random_score.mean()"
   ]
  },
  {
   "cell_type": "code",
   "execution_count": 137,
   "metadata": {},
   "outputs": [
    {
     "data": {
      "text/plain": [
       "3324.1151894447366"
      ]
     },
     "execution_count": 137,
     "metadata": {},
     "output_type": "execute_result"
    }
   ],
   "source": [
    "tree_r= DecisionTreeRegressor()\n",
    "tree_score = cross_val_score(lr,X_scaled,Y,cv=10,scoring='neg_mean_absolute_error')\n",
    "-1*tree_score.mean()"
   ]
  },
  {
   "cell_type": "code",
   "execution_count": null,
   "metadata": {},
   "outputs": [],
   "source": []
  }
 ],
 "metadata": {
  "kernelspec": {
   "display_name": "Python 3",
   "language": "python",
   "name": "python3"
  },
  "language_info": {
   "codemirror_mode": {
    "name": "ipython",
    "version": 3
   },
   "file_extension": ".py",
   "mimetype": "text/x-python",
   "name": "python",
   "nbconvert_exporter": "python",
   "pygments_lexer": "ipython3",
   "version": "3.10.9"
  }
 },
 "nbformat": 4,
 "nbformat_minor": 2
}
